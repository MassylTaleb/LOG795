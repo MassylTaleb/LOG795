{
 "cells": [
  {
   "cell_type": "code",
   "execution_count": 16,
   "metadata": {},
   "outputs": [],
   "source": [
    "import glob, os, cv2\n",
    "import matplotlib.pyplot as plt\n",
    "import pandas as pd\n",
    "from matplotlib import pyplot as plt\n",
    "from scipy.cluster.hierarchy import dendrogram\n",
    "import numpy as np\n",
    "from sklearn.cluster import AgglomerativeClustering"
   ]
  },
  {
   "cell_type": "code",
   "execution_count": 18,
   "metadata": {},
   "outputs": [],
   "source": [
    "# objects = glob.glob('./data/objects_extracted/bicycles/*.png')\n",
    "objects = glob.glob('./data/objects_extracted/bicycles/*.png')"
   ]
  },
  {
   "cell_type": "code",
   "execution_count": 19,
   "metadata": {},
   "outputs": [
    {
     "data": {
      "text/plain": [
       "0       ./data/objects_extracted/bicycles\\45_0_0.png\n",
       "1       ./data/objects_extracted/bicycles\\45_0_1.png\n",
       "2      ./data/objects_extracted/bicycles\\45_0_10.png\n",
       "3      ./data/objects_extracted/bicycles\\45_0_11.png\n",
       "4      ./data/objects_extracted/bicycles\\45_0_12.png\n",
       "                           ...                      \n",
       "581     ./data/objects_extracted/bicycles\\61_1_5.png\n",
       "582     ./data/objects_extracted/bicycles\\61_1_6.png\n",
       "583     ./data/objects_extracted/bicycles\\61_1_7.png\n",
       "584     ./data/objects_extracted/bicycles\\61_1_8.png\n",
       "585     ./data/objects_extracted/bicycles\\61_1_9.png\n",
       "Name: path, Length: 586, dtype: object"
      ]
     },
     "execution_count": 19,
     "metadata": {},
     "output_type": "execute_result"
    }
   ],
   "source": [
    "df = pd.DataFrame(objects,columns=['path'])\n",
    "df['path'].astype(str)"
   ]
  },
  {
   "cell_type": "code",
   "execution_count": 20,
   "metadata": {},
   "outputs": [
    {
     "data": {
      "text/html": [
       "<div>\n",
       "<style scoped>\n",
       "    .dataframe tbody tr th:only-of-type {\n",
       "        vertical-align: middle;\n",
       "    }\n",
       "\n",
       "    .dataframe tbody tr th {\n",
       "        vertical-align: top;\n",
       "    }\n",
       "\n",
       "    .dataframe thead th {\n",
       "        text-align: right;\n",
       "    }\n",
       "</style>\n",
       "<table border=\"1\" class=\"dataframe\">\n",
       "  <thead>\n",
       "    <tr style=\"text-align: right;\">\n",
       "      <th></th>\n",
       "      <th>path</th>\n",
       "    </tr>\n",
       "  </thead>\n",
       "  <tbody>\n",
       "    <tr>\n",
       "      <th>0</th>\n",
       "      <td>./data/objects_extracted/bicycles\\45_0_0.png</td>\n",
       "    </tr>\n",
       "    <tr>\n",
       "      <th>1</th>\n",
       "      <td>./data/objects_extracted/bicycles\\45_0_1.png</td>\n",
       "    </tr>\n",
       "    <tr>\n",
       "      <th>2</th>\n",
       "      <td>./data/objects_extracted/bicycles\\45_0_10.png</td>\n",
       "    </tr>\n",
       "    <tr>\n",
       "      <th>3</th>\n",
       "      <td>./data/objects_extracted/bicycles\\45_0_11.png</td>\n",
       "    </tr>\n",
       "    <tr>\n",
       "      <th>4</th>\n",
       "      <td>./data/objects_extracted/bicycles\\45_0_12.png</td>\n",
       "    </tr>\n",
       "  </tbody>\n",
       "</table>\n",
       "</div>"
      ],
      "text/plain": [
       "                                            path\n",
       "0   ./data/objects_extracted/bicycles\\45_0_0.png\n",
       "1   ./data/objects_extracted/bicycles\\45_0_1.png\n",
       "2  ./data/objects_extracted/bicycles\\45_0_10.png\n",
       "3  ./data/objects_extracted/bicycles\\45_0_11.png\n",
       "4  ./data/objects_extracted/bicycles\\45_0_12.png"
      ]
     },
     "execution_count": 20,
     "metadata": {},
     "output_type": "execute_result"
    }
   ],
   "source": [
    "df.head()"
   ]
  },
  {
   "cell_type": "code",
   "execution_count": 21,
   "metadata": {
    "scrolled": true
   },
   "outputs": [
    {
     "name": "stdout",
     "output_type": "stream",
     "text": [
      "(17, 13, 3)\n"
     ]
    },
    {
     "data": {
      "text/plain": [
       "<matplotlib.image.AxesImage at 0x13f8a0f1ac0>"
      ]
     },
     "execution_count": 21,
     "metadata": {},
     "output_type": "execute_result"
    },
    {
     "data": {
      "image/png": "[encoded data removed]",
      "text/plain": [
       "<Figure size 432x288 with 1 Axes>"
      ]
     },
     "metadata": {
      "needs_background": "light"
     },
     "output_type": "display_data"
    }
   ],
   "source": [
    "img = cv2.imread(df['path'][0])\n",
    "img = cv2.cvtColor(img, cv2.COLOR_BGR2RGB)\n",
    "print(img.shape)\n",
    "plt.imshow(img)"
   ]
  },
  {
   "cell_type": "code",
   "execution_count": 22,
   "metadata": {},
   "outputs": [],
   "source": [
    "def path_to_array(df, column_out):\n",
    "    img = cv2.imread(df['path'])\n",
    "    df['image'] = img\n",
    "    \n"
   ]
  },
  {
   "cell_type": "code",
   "execution_count": 23,
   "metadata": {},
   "outputs": [],
   "source": [
    "images = []\n",
    "shapes = []\n",
    "flatened_images = []\n",
    "for index, row in df.iterrows():\n",
    "    img = cv2.imread(row.path)\n",
    "    img = cv2.cvtColor(img, cv2.COLOR_BGR2RGB)\n",
    "    images.append(img)\n",
    "    shapes.append(img.shape)\n",
    "    flatened_images.append(img.flatten())"
   ]
  },
  {
   "cell_type": "code",
   "execution_count": 24,
   "metadata": {},
   "outputs": [],
   "source": [
    "# df['image'] = images\n",
    "df['shape'] = shapes"
   ]
  },
  {
   "cell_type": "code",
   "execution_count": 25,
   "metadata": {},
   "outputs": [],
   "source": [
    "indexs = []\n",
    "frames = []\n",
    "obj = []\n",
    "\n",
    "\n",
    "dict_info = {}\n",
    "for index, row in df.iterrows():\n",
    "#     print(os.path.basename(row.path[:-4]).split('_'))\n",
    "    info = os.path.basename(row.path[:-4]).split('_')\n",
    "    indexs.append(info[0])\n",
    "    frames.append(info[1])\n",
    "    obj.append(info[2])\n"
   ]
  },
  {
   "cell_type": "code",
   "execution_count": 26,
   "metadata": {},
   "outputs": [],
   "source": [
    "df['index'] = indexs\n",
    "df['frame'] = frames\n",
    "df['obj_num'] = obj"
   ]
  },
  {
   "cell_type": "code",
   "execution_count": 27,
   "metadata": {},
   "outputs": [
    {
     "data": {
      "text/html": [
       "<div>\n",
       "<style scoped>\n",
       "    .dataframe tbody tr th:only-of-type {\n",
       "        vertical-align: middle;\n",
       "    }\n",
       "\n",
       "    .dataframe tbody tr th {\n",
       "        vertical-align: top;\n",
       "    }\n",
       "\n",
       "    .dataframe thead th {\n",
       "        text-align: right;\n",
       "    }\n",
       "</style>\n",
       "<table border=\"1\" class=\"dataframe\">\n",
       "  <thead>\n",
       "    <tr style=\"text-align: right;\">\n",
       "      <th></th>\n",
       "      <th>path</th>\n",
       "      <th>shape</th>\n",
       "      <th>index</th>\n",
       "      <th>frame</th>\n",
       "      <th>obj_num</th>\n",
       "    </tr>\n",
       "  </thead>\n",
       "  <tbody>\n",
       "    <tr>\n",
       "      <th>0</th>\n",
       "      <td>./data/objects_extracted/bicycles\\45_0_0.png</td>\n",
       "      <td>(17, 13, 3)</td>\n",
       "      <td>45</td>\n",
       "      <td>0</td>\n",
       "      <td>0</td>\n",
       "    </tr>\n",
       "    <tr>\n",
       "      <th>1</th>\n",
       "      <td>./data/objects_extracted/bicycles\\45_0_1.png</td>\n",
       "      <td>(11, 11, 3)</td>\n",
       "      <td>45</td>\n",
       "      <td>0</td>\n",
       "      <td>1</td>\n",
       "    </tr>\n",
       "    <tr>\n",
       "      <th>2</th>\n",
       "      <td>./data/objects_extracted/bicycles\\45_0_10.png</td>\n",
       "      <td>(15, 13, 3)</td>\n",
       "      <td>45</td>\n",
       "      <td>0</td>\n",
       "      <td>10</td>\n",
       "    </tr>\n",
       "    <tr>\n",
       "      <th>3</th>\n",
       "      <td>./data/objects_extracted/bicycles\\45_0_11.png</td>\n",
       "      <td>(18, 14, 3)</td>\n",
       "      <td>45</td>\n",
       "      <td>0</td>\n",
       "      <td>11</td>\n",
       "    </tr>\n",
       "    <tr>\n",
       "      <th>4</th>\n",
       "      <td>./data/objects_extracted/bicycles\\45_0_12.png</td>\n",
       "      <td>(11, 10, 3)</td>\n",
       "      <td>45</td>\n",
       "      <td>0</td>\n",
       "      <td>12</td>\n",
       "    </tr>\n",
       "  </tbody>\n",
       "</table>\n",
       "</div>"
      ],
      "text/plain": [
       "                                            path        shape index frame  \\\n",
       "0   ./data/objects_extracted/bicycles\\45_0_0.png  (17, 13, 3)    45     0   \n",
       "1   ./data/objects_extracted/bicycles\\45_0_1.png  (11, 11, 3)    45     0   \n",
       "2  ./data/objects_extracted/bicycles\\45_0_10.png  (15, 13, 3)    45     0   \n",
       "3  ./data/objects_extracted/bicycles\\45_0_11.png  (18, 14, 3)    45     0   \n",
       "4  ./data/objects_extracted/bicycles\\45_0_12.png  (11, 10, 3)    45     0   \n",
       "\n",
       "  obj_num  \n",
       "0       0  \n",
       "1       1  \n",
       "2      10  \n",
       "3      11  \n",
       "4      12  "
      ]
     },
     "execution_count": 27,
     "metadata": {},
     "output_type": "execute_result"
    }
   ],
   "source": [
    "df.head()"
   ]
  },
  {
   "cell_type": "code",
   "execution_count": 28,
   "metadata": {},
   "outputs": [],
   "source": [
    "df = df[['index', 'frame','obj_num','path','shape']]"
   ]
  },
  {
   "cell_type": "code",
   "execution_count": 29,
   "metadata": {},
   "outputs": [],
   "source": [
    "df = df.sort_values(by=['index','frame','obj_num'])"
   ]
  },
  {
   "cell_type": "code",
   "execution_count": 30,
   "metadata": {},
   "outputs": [
    {
     "data": {
      "text/html": [
       "<div>\n",
       "<style scoped>\n",
       "    .dataframe tbody tr th:only-of-type {\n",
       "        vertical-align: middle;\n",
       "    }\n",
       "\n",
       "    .dataframe tbody tr th {\n",
       "        vertical-align: top;\n",
       "    }\n",
       "\n",
       "    .dataframe thead th {\n",
       "        text-align: right;\n",
       "    }\n",
       "</style>\n",
       "<table border=\"1\" class=\"dataframe\">\n",
       "  <thead>\n",
       "    <tr style=\"text-align: right;\">\n",
       "      <th></th>\n",
       "      <th>index</th>\n",
       "      <th>frame</th>\n",
       "      <th>obj_num</th>\n",
       "      <th>path</th>\n",
       "      <th>shape</th>\n",
       "    </tr>\n",
       "  </thead>\n",
       "  <tbody>\n",
       "    <tr>\n",
       "      <th>0</th>\n",
       "      <td>45</td>\n",
       "      <td>0</td>\n",
       "      <td>0</td>\n",
       "      <td>./data/objects_extracted/bicycles\\45_0_0.png</td>\n",
       "      <td>(17, 13, 3)</td>\n",
       "    </tr>\n",
       "    <tr>\n",
       "      <th>1</th>\n",
       "      <td>45</td>\n",
       "      <td>0</td>\n",
       "      <td>1</td>\n",
       "      <td>./data/objects_extracted/bicycles\\45_0_1.png</td>\n",
       "      <td>(11, 11, 3)</td>\n",
       "    </tr>\n",
       "    <tr>\n",
       "      <th>2</th>\n",
       "      <td>45</td>\n",
       "      <td>0</td>\n",
       "      <td>10</td>\n",
       "      <td>./data/objects_extracted/bicycles\\45_0_10.png</td>\n",
       "      <td>(15, 13, 3)</td>\n",
       "    </tr>\n",
       "  </tbody>\n",
       "</table>\n",
       "</div>"
      ],
      "text/plain": [
       "  index frame obj_num                                           path  \\\n",
       "0    45     0       0   ./data/objects_extracted/bicycles\\45_0_0.png   \n",
       "1    45     0       1   ./data/objects_extracted/bicycles\\45_0_1.png   \n",
       "2    45     0      10  ./data/objects_extracted/bicycles\\45_0_10.png   \n",
       "\n",
       "         shape  \n",
       "0  (17, 13, 3)  \n",
       "1  (11, 11, 3)  \n",
       "2  (15, 13, 3)  "
      ]
     },
     "execution_count": 30,
     "metadata": {},
     "output_type": "execute_result"
    }
   ],
   "source": [
    "df.head(3)"
   ]
  },
  {
   "cell_type": "code",
   "execution_count": 31,
   "metadata": {
    "scrolled": true
   },
   "outputs": [
    {
     "name": "stdout",
     "output_type": "stream",
     "text": [
      "[[[131 204 130]\n",
      "  [131 204 130]\n",
      "  [131 205 126]\n",
      "  [131 205 126]\n",
      "  [139 204 121]\n",
      "  [139 204 121]\n",
      "  [142 204 127]\n",
      "  [143 205 128]\n",
      "  [150 203 142]\n",
      "  [151 204 143]\n",
      "  [151 199 142]\n",
      "  [148 196 139]\n",
      "  [141 201 124]]\n",
      "\n",
      " [[131 204 130]\n",
      "  [131 204 130]\n",
      "  [131 205 126]\n",
      "  [131 205 126]\n",
      "  [138 203 120]\n",
      "  [139 204 121]\n",
      "  [143 205 128]\n",
      "  [143 205 128]\n",
      "  [168 221 160]\n",
      "  [177 230 169]\n",
      "  [174 222 165]\n",
      "  [160 208 151]\n",
      "  [141 201 124]]\n",
      "\n",
      " [[131 205 124]\n",
      "  [131 205 124]\n",
      "  [133 205 124]\n",
      "  [133 205 124]\n",
      "  [144 202 110]\n",
      "  [147 205 113]\n",
      "  [162 208 104]\n",
      "  [166 212 108]\n",
      "  [212 236 236]\n",
      "  [226 250 250]\n",
      "  [204 242 215]\n",
      "  [173 211 184]\n",
      "  [138 202 124]]\n",
      "\n",
      " [[131 205 124]\n",
      "  [131 205 124]\n",
      "  [133 205 124]\n",
      "  [133 205 124]\n",
      "  [145 203 111]\n",
      "  [150 208 116]\n",
      "  [169 215 111]\n",
      "  [174 220 116]\n",
      "  [224 248 248]\n",
      "  [240 255 255]\n",
      "  [212 250 223]\n",
      "  [173 211 184]\n",
      "  [138 202 124]]\n",
      "\n",
      " [[139 203 129]\n",
      "  [139 203 129]\n",
      "  [148 195 141]\n",
      "  [150 197 143]\n",
      "  [194 216  89]\n",
      "  [200 222  95]\n",
      "  [223 238  17]\n",
      "  [231 246  25]\n",
      "  [254 249 180]\n",
      "  [255 255 187]\n",
      "  [198 231 175]\n",
      "  [165 198 142]\n",
      "  [129 205 127]]\n",
      "\n",
      " [[144 208 134]\n",
      "  [157 221 147]\n",
      "  [181 228 174]\n",
      "  [188 235 181]\n",
      "  [227 249 122]\n",
      "  [222 244 117]\n",
      "  [235 250  29]\n",
      "  [235 250  29]\n",
      "  [247 242 173]\n",
      "  [248 243 174]\n",
      "  [188 221 165]\n",
      "  [156 189 133]\n",
      "  [129 205 127]]\n",
      "\n",
      " [[149 203 135]\n",
      "  [178 232 164]\n",
      "  [224 251 233]\n",
      "  [230 255 239]\n",
      "  [253 247 145]\n",
      "  [240 234 132]\n",
      "  [250 238   3]\n",
      "  [251 239   4]\n",
      "  [246 240  47]\n",
      "  [241 235  42]\n",
      "  [179 216  99]\n",
      "  [158 195  78]\n",
      "  [126 206 131]]\n",
      "\n",
      " [[147 201 133]\n",
      "  [182 236 168]\n",
      "  [227 254 236]\n",
      "  [226 253 235]\n",
      "  [250 244 142]\n",
      "  [238 232 130]\n",
      "  [248 236   1]\n",
      "  [249 237   2]\n",
      "  [246 240  47]\n",
      "  [234 228  35]\n",
      "  [174 211  94]\n",
      "  [159 196  79]\n",
      "  [126 206 131]]\n",
      "\n",
      " [[136 201 136]\n",
      "  [137 202 137]\n",
      "  [154 209 149]\n",
      "  [181 236 176]\n",
      "  [200 225 126]\n",
      "  [209 234 135]\n",
      "  [253 249 142]\n",
      "  [253 249 142]\n",
      "  [240 253 140]\n",
      "  [212 225 112]\n",
      "  [164 214 113]\n",
      "  [147 197  96]\n",
      "  [126 207 125]]\n",
      "\n",
      " [[136 201 136]\n",
      "  [136 201 136]\n",
      "  [143 198 138]\n",
      "  [144 199 139]\n",
      "  [176 201 102]\n",
      "  [204 229 130]\n",
      "  [255 255 149]\n",
      "  [255 252 145]\n",
      "  [234 247 134]\n",
      "  [200 213 100]\n",
      "  [158 208 107]\n",
      "  [150 200  99]\n",
      "  [126 207 125]]\n",
      "\n",
      " [[132 204 123]\n",
      "  [133 205 124]\n",
      "  [132 203 129]\n",
      "  [133 204 130]\n",
      "  [137 179 117]\n",
      "  [167 209 147]\n",
      "  [237 250 225]\n",
      "  [244 255 232]\n",
      "  [220 238 195]\n",
      "  [175 193 150]\n",
      "  [146 198 128]\n",
      "  [150 202 132]\n",
      "  [129 206 121]]\n",
      "\n",
      " [[132 204 123]\n",
      "  [134 206 125]\n",
      "  [132 203 129]\n",
      "  [133 204 130]\n",
      "  [131 173 111]\n",
      "  [147 189 127]\n",
      "  [218 231 206]\n",
      "  [245 255 233]\n",
      "  [212 230 187]\n",
      "  [171 189 146]\n",
      "  [146 198 128]\n",
      "  [150 202 132]\n",
      "  [129 206 121]]\n",
      "\n",
      " [[134 204 117]\n",
      "  [136 206 119]\n",
      "  [127 207 121]\n",
      "  [118 198 112]\n",
      "  [108 181  95]\n",
      "  [105 178  92]\n",
      "  [148 201 149]\n",
      "  [177 230 178]\n",
      "  [157 210 149]\n",
      "  [145 198 137]\n",
      "  [138 202 124]\n",
      "  [139 203 125]\n",
      "  [132 205 119]]\n",
      "\n",
      " [[134 204 117]\n",
      "  [136 206 119]\n",
      "  [127 207 121]\n",
      "  [118 198 112]\n",
      "  [102 175  89]\n",
      "  [100 173  87]\n",
      "  [128 181 129]\n",
      "  [153 206 154]\n",
      "  [148 201 140]\n",
      "  [147 200 139]\n",
      "  [137 201 123]\n",
      "  [138 202 124]\n",
      "  [132 205 119]]\n",
      "\n",
      " [[142 200 119]\n",
      "  [144 202 121]\n",
      "  [134 201 133]\n",
      "  [125 192 124]\n",
      "  [103 176  92]\n",
      "  [ 97 170  86]\n",
      "  [114 182  96]\n",
      "  [131 199 113]\n",
      "  [134 205 131]\n",
      "  [133 204 130]\n",
      "  [135 200 135]\n",
      "  [136 201 136]\n",
      "  [132 202 133]]\n",
      "\n",
      " [[142 200 119]\n",
      "  [144 202 121]\n",
      "  [134 201 133]\n",
      "  [125 192 124]\n",
      "  [100 173  89]\n",
      "  [ 97 170  86]\n",
      "  [114 182  96]\n",
      "  [134 202 116]\n",
      "  [134 205 131]\n",
      "  [133 204 130]\n",
      "  [135 200 135]\n",
      "  [136 201 136]\n",
      "  [132 202 133]]\n",
      "\n",
      " [[132 204 123]\n",
      "  [134 206 125]\n",
      "  [132 204 125]\n",
      "  [130 202 123]\n",
      "  [ 98 170  89]\n",
      "  [ 97 169  88]\n",
      "  [111 183 104]\n",
      "  [131 203 124]\n",
      "  [133 205 126]\n",
      "  [133 205 126]\n",
      "  [135 204 126]\n",
      "  [135 204 126]\n",
      "  [133 205 126]]]\n"
     ]
    }
   ],
   "source": [
    "print(images[0])"
   ]
  },
  {
   "cell_type": "code",
   "execution_count": 32,
   "metadata": {},
   "outputs": [],
   "source": [
    "def plot_dendrogram(model, **kwargs):\n",
    "    # Create linkage matrix and then plot the dendrogram\n",
    "\n",
    "    # create the counts of samples under each node\n",
    "    counts = np.zeros(model.children_.shape[0])\n",
    "    n_samples = len(model.labels_)\n",
    "    for i, merge in enumerate(model.children_):\n",
    "        current_count = 0\n",
    "        for child_idx in merge:\n",
    "            if child_idx < n_samples:\n",
    "                current_count += 1  # leaf node\n",
    "            else:\n",
    "                current_count += counts[child_idx - n_samples]\n",
    "        counts[i] = current_count\n",
    "\n",
    "    linkage_matrix = np.column_stack([model.children_, model.distances_,\n",
    "                                      counts]).astype(float)\n",
    "\n",
    "    # Plot the corresponding dendrogram\n",
    "    dendrogram(linkage_matrix, **kwargs)"
   ]
  },
  {
   "cell_type": "code",
   "execution_count": null,
   "metadata": {},
   "outputs": [],
   "source": [
    "model = AgglomerativeClustering(distance_threshold=0, n_clusters=None)\n",
    "model = model.fit(flatened_images)\n",
    "plt.title('Hierarchical Clustering Dendrogram')\n",
    "# plot the top three levels of the dendrogram\n",
    "plot_dendrogram(model, truncate_mode='level', p=3)\n",
    "plt.xlabel(\"Number of points in node (or index of point if no parenthesis).\")\n",
    "plt.show()"
   ]
  },
  {
   "cell_type": "code",
   "execution_count": null,
   "metadata": {},
   "outputs": [],
   "source": []
  },
  {
   "cell_type": "code",
   "execution_count": null,
   "metadata": {},
   "outputs": [],
   "source": []
  },
  {
   "cell_type": "code",
   "execution_count": null,
   "metadata": {},
   "outputs": [],
   "source": []
  },
  {
   "cell_type": "code",
   "execution_count": null,
   "metadata": {},
   "outputs": [],
   "source": []
  },
  {
   "cell_type": "code",
   "execution_count": null,
   "metadata": {},
   "outputs": [],
   "source": []
  },
  {
   "cell_type": "code",
   "execution_count": null,
   "metadata": {},
   "outputs": [],
   "source": []
  },
  {
   "cell_type": "code",
   "execution_count": null,
   "metadata": {},
   "outputs": [],
   "source": []
  },
  {
   "cell_type": "code",
   "execution_count": null,
   "metadata": {},
   "outputs": [],
   "source": []
  },
  {
   "cell_type": "code",
   "execution_count": null,
   "metadata": {},
   "outputs": [],
   "source": []
  },
  {
   "cell_type": "code",
   "execution_count": null,
   "metadata": {},
   "outputs": [],
   "source": []
  },
  {
   "cell_type": "code",
   "execution_count": null,
   "metadata": {},
   "outputs": [],
   "source": []
  }
 ],
 "metadata": {
  "kernelspec": {
   "display_name": "Python 3",
   "language": "python",
   "name": "python3"
  },
  "language_info": {
   "codemirror_mode": {
    "name": "ipython",
    "version": 3
   },
   "file_extension": ".py",
   "mimetype": "text/x-python",
   "name": "python",
   "nbconvert_exporter": "python",
   "pygments_lexer": "ipython3",
   "version": "3.8.3"
  }
 },
 "nbformat": 4,
 "nbformat_minor": 5
}
