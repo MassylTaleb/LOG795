{
 "cells": [
  {
   "cell_type": "code",
   "execution_count": 96,
   "metadata": {},
   "outputs": [],
   "source": [
    "import glob, os, cv2\n",
    "import matplotlib.pyplot as plt\n",
    "import pandas as pd\n",
    "from matplotlib import pyplot as plt\n",
    "from scipy.cluster.hierarchy import dendrogram\n",
    "import numpy as np\n",
    "from sklearn.datasets import load_iris\n",
    "from sklearn.cluster import AgglomerativeClustering\n",
    "from sklearn.neighbors import NearestCentroid"
   ]
  },
  {
   "cell_type": "code",
   "execution_count": 2,
   "metadata": {},
   "outputs": [],
   "source": [
    "# objects = glob.glob('./data/objects_extracted/bicycles/*.png')\n",
    "objects = glob.glob('./data/objects_extracted/bicycles/*.png')"
   ]
  },
  {
   "cell_type": "code",
   "execution_count": 3,
   "metadata": {},
   "outputs": [
    {
     "data": {
      "text/plain": [
       "0       ./data/objects_extracted/bicycles\\45_0_0.png\n",
       "1       ./data/objects_extracted/bicycles\\45_0_1.png\n",
       "2      ./data/objects_extracted/bicycles\\45_0_10.png\n",
       "3      ./data/objects_extracted/bicycles\\45_0_11.png\n",
       "4      ./data/objects_extracted/bicycles\\45_0_12.png\n",
       "                           ...                      \n",
       "581     ./data/objects_extracted/bicycles\\61_1_5.png\n",
       "582     ./data/objects_extracted/bicycles\\61_1_6.png\n",
       "583     ./data/objects_extracted/bicycles\\61_1_7.png\n",
       "584     ./data/objects_extracted/bicycles\\61_1_8.png\n",
       "585     ./data/objects_extracted/bicycles\\61_1_9.png\n",
       "Name: path, Length: 586, dtype: object"
      ]
     },
     "execution_count": 3,
     "metadata": {},
     "output_type": "execute_result"
    }
   ],
   "source": [
    "df = pd.DataFrame(objects,columns=['path'])\n",
    "df['path'].astype(str)"
   ]
  },
  {
   "cell_type": "code",
   "execution_count": 4,
   "metadata": {},
   "outputs": [
    {
     "data": {
      "text/html": [
       "<div>\n",
       "<style scoped>\n",
       "    .dataframe tbody tr th:only-of-type {\n",
       "        vertical-align: middle;\n",
       "    }\n",
       "\n",
       "    .dataframe tbody tr th {\n",
       "        vertical-align: top;\n",
       "    }\n",
       "\n",
       "    .dataframe thead th {\n",
       "        text-align: right;\n",
       "    }\n",
       "</style>\n",
       "<table border=\"1\" class=\"dataframe\">\n",
       "  <thead>\n",
       "    <tr style=\"text-align: right;\">\n",
       "      <th></th>\n",
       "      <th>path</th>\n",
       "    </tr>\n",
       "  </thead>\n",
       "  <tbody>\n",
       "    <tr>\n",
       "      <th>0</th>\n",
       "      <td>./data/objects_extracted/bicycles\\45_0_0.png</td>\n",
       "    </tr>\n",
       "    <tr>\n",
       "      <th>1</th>\n",
       "      <td>./data/objects_extracted/bicycles\\45_0_1.png</td>\n",
       "    </tr>\n",
       "    <tr>\n",
       "      <th>2</th>\n",
       "      <td>./data/objects_extracted/bicycles\\45_0_10.png</td>\n",
       "    </tr>\n",
       "    <tr>\n",
       "      <th>3</th>\n",
       "      <td>./data/objects_extracted/bicycles\\45_0_11.png</td>\n",
       "    </tr>\n",
       "    <tr>\n",
       "      <th>4</th>\n",
       "      <td>./data/objects_extracted/bicycles\\45_0_12.png</td>\n",
       "    </tr>\n",
       "  </tbody>\n",
       "</table>\n",
       "</div>"
      ],
      "text/plain": [
       "                                            path\n",
       "0   ./data/objects_extracted/bicycles\\45_0_0.png\n",
       "1   ./data/objects_extracted/bicycles\\45_0_1.png\n",
       "2  ./data/objects_extracted/bicycles\\45_0_10.png\n",
       "3  ./data/objects_extracted/bicycles\\45_0_11.png\n",
       "4  ./data/objects_extracted/bicycles\\45_0_12.png"
      ]
     },
     "execution_count": 4,
     "metadata": {},
     "output_type": "execute_result"
    }
   ],
   "source": [
    "df.head()"
   ]
  },
  {
   "cell_type": "code",
   "execution_count": 5,
   "metadata": {
    "scrolled": true
   },
   "outputs": [
    {
     "name": "stdout",
     "output_type": "stream",
     "text": [
      "(17, 13, 3)\n"
     ]
    },
    {
     "data": {
      "text/plain": [
       "<matplotlib.image.AxesImage at 0x1f47ed93c10>"
      ]
     },
     "execution_count": 5,
     "metadata": {},
     "output_type": "execute_result"
    },
    {
     "data": {
      "image/png": "[encoded data removed]",
      "text/plain": [
       "<Figure size 432x288 with 1 Axes>"
      ]
     },
     "metadata": {
      "needs_background": "light"
     },
     "output_type": "display_data"
    }
   ],
   "source": [
    "img = cv2.imread(df['path'][0])\n",
    "img = cv2.cvtColor(img, cv2.COLOR_BGR2RGB)\n",
    "print(img.shape)\n",
    "plt.imshow(img)"
   ]
  },
  {
   "cell_type": "code",
   "execution_count": 6,
   "metadata": {},
   "outputs": [],
   "source": [
    "def path_to_array(df, column_out):\n",
    "    img = cv2.imread(df['path'])\n",
    "    df['image'] = img\n",
    "    \n"
   ]
  },
  {
   "cell_type": "code",
   "execution_count": 7,
   "metadata": {},
   "outputs": [],
   "source": [
    "images = []\n",
    "shapes = []\n",
    "flatened_images = []\n",
    "for index, row in df.iterrows():\n",
    "    img = cv2.imread(row.path)\n",
    "    img = cv2.cvtColor(img, cv2.COLOR_BGR2RGB)\n",
    "    img = cv2.resize(img, (32,32))\n",
    "    images.append(img)\n",
    "    shapes.append(img.shape)\n",
    "    flatened_images.append(img.flatten())"
   ]
  },
  {
   "cell_type": "code",
   "execution_count": 8,
   "metadata": {},
   "outputs": [],
   "source": [
    "# df['image'] = images\n",
    "df['shape'] = shapes"
   ]
  },
  {
   "cell_type": "code",
   "execution_count": 9,
   "metadata": {},
   "outputs": [],
   "source": [
    "indexs = []\n",
    "frames = []\n",
    "obj = []\n",
    "\n",
    "\n",
    "dict_info = {}\n",
    "for index, row in df.iterrows():\n",
    "#     print(os.path.basename(row.path[:-4]).split('_'))\n",
    "    info = os.path.basename(row.path[:-4]).split('_')\n",
    "    indexs.append(info[0])\n",
    "    frames.append(info[1])\n",
    "    obj.append(info[2])\n"
   ]
  },
  {
   "cell_type": "code",
   "execution_count": 10,
   "metadata": {},
   "outputs": [],
   "source": [
    "df['index'] = indexs\n",
    "df['frame'] = frames\n",
    "df['obj_num'] = obj"
   ]
  },
  {
   "cell_type": "code",
   "execution_count": 11,
   "metadata": {},
   "outputs": [
    {
     "data": {
      "text/html": [
       "<div>\n",
       "<style scoped>\n",
       "    .dataframe tbody tr th:only-of-type {\n",
       "        vertical-align: middle;\n",
       "    }\n",
       "\n",
       "    .dataframe tbody tr th {\n",
       "        vertical-align: top;\n",
       "    }\n",
       "\n",
       "    .dataframe thead th {\n",
       "        text-align: right;\n",
       "    }\n",
       "</style>\n",
       "<table border=\"1\" class=\"dataframe\">\n",
       "  <thead>\n",
       "    <tr style=\"text-align: right;\">\n",
       "      <th></th>\n",
       "      <th>path</th>\n",
       "      <th>shape</th>\n",
       "      <th>index</th>\n",
       "      <th>frame</th>\n",
       "      <th>obj_num</th>\n",
       "    </tr>\n",
       "  </thead>\n",
       "  <tbody>\n",
       "    <tr>\n",
       "      <th>0</th>\n",
       "      <td>./data/objects_extracted/bicycles\\45_0_0.png</td>\n",
       "      <td>(32, 32, 3)</td>\n",
       "      <td>45</td>\n",
       "      <td>0</td>\n",
       "      <td>0</td>\n",
       "    </tr>\n",
       "    <tr>\n",
       "      <th>1</th>\n",
       "      <td>./data/objects_extracted/bicycles\\45_0_1.png</td>\n",
       "      <td>(32, 32, 3)</td>\n",
       "      <td>45</td>\n",
       "      <td>0</td>\n",
       "      <td>1</td>\n",
       "    </tr>\n",
       "    <tr>\n",
       "      <th>2</th>\n",
       "      <td>./data/objects_extracted/bicycles\\45_0_10.png</td>\n",
       "      <td>(32, 32, 3)</td>\n",
       "      <td>45</td>\n",
       "      <td>0</td>\n",
       "      <td>10</td>\n",
       "    </tr>\n",
       "    <tr>\n",
       "      <th>3</th>\n",
       "      <td>./data/objects_extracted/bicycles\\45_0_11.png</td>\n",
       "      <td>(32, 32, 3)</td>\n",
       "      <td>45</td>\n",
       "      <td>0</td>\n",
       "      <td>11</td>\n",
       "    </tr>\n",
       "    <tr>\n",
       "      <th>4</th>\n",
       "      <td>./data/objects_extracted/bicycles\\45_0_12.png</td>\n",
       "      <td>(32, 32, 3)</td>\n",
       "      <td>45</td>\n",
       "      <td>0</td>\n",
       "      <td>12</td>\n",
       "    </tr>\n",
       "  </tbody>\n",
       "</table>\n",
       "</div>"
      ],
      "text/plain": [
       "                                            path        shape index frame  \\\n",
       "0   ./data/objects_extracted/bicycles\\45_0_0.png  (32, 32, 3)    45     0   \n",
       "1   ./data/objects_extracted/bicycles\\45_0_1.png  (32, 32, 3)    45     0   \n",
       "2  ./data/objects_extracted/bicycles\\45_0_10.png  (32, 32, 3)    45     0   \n",
       "3  ./data/objects_extracted/bicycles\\45_0_11.png  (32, 32, 3)    45     0   \n",
       "4  ./data/objects_extracted/bicycles\\45_0_12.png  (32, 32, 3)    45     0   \n",
       "\n",
       "  obj_num  \n",
       "0       0  \n",
       "1       1  \n",
       "2      10  \n",
       "3      11  \n",
       "4      12  "
      ]
     },
     "execution_count": 11,
     "metadata": {},
     "output_type": "execute_result"
    }
   ],
   "source": [
    "df.head()"
   ]
  },
  {
   "cell_type": "code",
   "execution_count": 12,
   "metadata": {},
   "outputs": [],
   "source": [
    "df = df[['index', 'frame','obj_num','path','shape']]"
   ]
  },
  {
   "cell_type": "code",
   "execution_count": 13,
   "metadata": {},
   "outputs": [],
   "source": [
    "df = df.sort_values(by=['index','frame','obj_num'])"
   ]
  },
  {
   "cell_type": "code",
   "execution_count": 14,
   "metadata": {},
   "outputs": [
    {
     "data": {
      "text/html": [
       "<div>\n",
       "<style scoped>\n",
       "    .dataframe tbody tr th:only-of-type {\n",
       "        vertical-align: middle;\n",
       "    }\n",
       "\n",
       "    .dataframe tbody tr th {\n",
       "        vertical-align: top;\n",
       "    }\n",
       "\n",
       "    .dataframe thead th {\n",
       "        text-align: right;\n",
       "    }\n",
       "</style>\n",
       "<table border=\"1\" class=\"dataframe\">\n",
       "  <thead>\n",
       "    <tr style=\"text-align: right;\">\n",
       "      <th></th>\n",
       "      <th>index</th>\n",
       "      <th>frame</th>\n",
       "      <th>obj_num</th>\n",
       "      <th>path</th>\n",
       "      <th>shape</th>\n",
       "    </tr>\n",
       "  </thead>\n",
       "  <tbody>\n",
       "    <tr>\n",
       "      <th>0</th>\n",
       "      <td>45</td>\n",
       "      <td>0</td>\n",
       "      <td>0</td>\n",
       "      <td>./data/objects_extracted/bicycles\\45_0_0.png</td>\n",
       "      <td>(32, 32, 3)</td>\n",
       "    </tr>\n",
       "    <tr>\n",
       "      <th>1</th>\n",
       "      <td>45</td>\n",
       "      <td>0</td>\n",
       "      <td>1</td>\n",
       "      <td>./data/objects_extracted/bicycles\\45_0_1.png</td>\n",
       "      <td>(32, 32, 3)</td>\n",
       "    </tr>\n",
       "    <tr>\n",
       "      <th>2</th>\n",
       "      <td>45</td>\n",
       "      <td>0</td>\n",
       "      <td>10</td>\n",
       "      <td>./data/objects_extracted/bicycles\\45_0_10.png</td>\n",
       "      <td>(32, 32, 3)</td>\n",
       "    </tr>\n",
       "  </tbody>\n",
       "</table>\n",
       "</div>"
      ],
      "text/plain": [
       "  index frame obj_num                                           path  \\\n",
       "0    45     0       0   ./data/objects_extracted/bicycles\\45_0_0.png   \n",
       "1    45     0       1   ./data/objects_extracted/bicycles\\45_0_1.png   \n",
       "2    45     0      10  ./data/objects_extracted/bicycles\\45_0_10.png   \n",
       "\n",
       "         shape  \n",
       "0  (32, 32, 3)  \n",
       "1  (32, 32, 3)  \n",
       "2  (32, 32, 3)  "
      ]
     },
     "execution_count": 14,
     "metadata": {},
     "output_type": "execute_result"
    }
   ],
   "source": [
    "df.head(3)"
   ]
  },
  {
   "cell_type": "code",
   "execution_count": 15,
   "metadata": {
    "scrolled": true
   },
   "outputs": [
    {
     "name": "stdout",
     "output_type": "stream",
     "text": [
      "[[[131 204 130]\n",
      "  [131 204 130]\n",
      "  [131 204 130]\n",
      "  ...\n",
      "  [144 198 132]\n",
      "  [142 200 125]\n",
      "  [141 201 124]]\n",
      "\n",
      " [[131 204 130]\n",
      "  [131 204 130]\n",
      "  [131 204 130]\n",
      "  ...\n",
      "  [146 200 133]\n",
      "  [142 201 126]\n",
      "  [141 201 124]]\n",
      "\n",
      " [[131 204 130]\n",
      "  [131 204 130]\n",
      "  [131 204 130]\n",
      "  ...\n",
      "  [150 203 137]\n",
      "  [143 201 127]\n",
      "  [141 201 124]]\n",
      "\n",
      " ...\n",
      "\n",
      " [[140 201 120]\n",
      "  [140 201 120]\n",
      "  [141 201 121]\n",
      "  ...\n",
      "  [134 202 133]\n",
      "  [132 202 132]\n",
      "  [132 202 132]]\n",
      "\n",
      " [[135 203 122]\n",
      "  [135 203 122]\n",
      "  [136 204 123]\n",
      "  ...\n",
      "  [134 204 128]\n",
      "  [133 204 128]\n",
      "  [133 204 128]]\n",
      "\n",
      " [[132 204 123]\n",
      "  [132 204 123]\n",
      "  [133 205 124]\n",
      "  ...\n",
      "  [134 204 126]\n",
      "  [133 205 126]\n",
      "  [133 205 126]]]\n"
     ]
    }
   ],
   "source": [
    "print(images[0])"
   ]
  },
  {
   "cell_type": "code",
   "execution_count": 16,
   "metadata": {},
   "outputs": [],
   "source": [
    "def plot_dendrogram(model, **kwargs):\n",
    "    # Create linkage matrix and then plot the dendrogram\n",
    "\n",
    "    # create the counts of samples under each node\n",
    "    counts = np.zeros(model.children_.shape[0])\n",
    "    n_samples = len(model.labels_)\n",
    "    for i, merge in enumerate(model.children_):\n",
    "        current_count = 0\n",
    "        for child_idx in merge:\n",
    "            if child_idx < n_samples:\n",
    "                current_count += 1  # leaf node\n",
    "            else:\n",
    "                current_count += counts[child_idx - n_samples]\n",
    "        counts[i] = current_count\n",
    "\n",
    "    linkage_matrix = np.column_stack([model.children_, model.distances_,\n",
    "                                      counts]).astype(float)\n",
    "\n",
    "    # Plot the corresponding dendrogram\n",
    "    dendrogram(linkage_matrix, **kwargs)"
   ]
  },
  {
   "cell_type": "code",
   "execution_count": 17,
   "metadata": {},
   "outputs": [
    {
     "name": "stdout",
     "output_type": "stream",
     "text": [
      "index      586\n",
      "frame      586\n",
      "obj_num    586\n",
      "path       586\n",
      "shape      586\n",
      "dtype: int64\n"
     ]
    }
   ],
   "source": [
    "print(df.count())"
   ]
  },
  {
   "cell_type": "code",
   "execution_count": 18,
   "metadata": {},
   "outputs": [
    {
     "name": "stdout",
     "output_type": "stream",
     "text": [
      "(586, 3072)\n"
     ]
    }
   ],
   "source": [
    "flatened_images = np.array(flatened_images)\n",
    "images = np.array(images)\n",
    "X = np.reshape(images, (586, 32*32*3))\n",
    "iris = load_iris()\n",
    "XX = iris.data\n",
    "print(X.shape)"
   ]
  },
  {
   "cell_type": "code",
   "execution_count": 97,
   "metadata": {},
   "outputs": [
    {
     "data": {
      "image/png": "[encoded data removed]",
      "text/plain": [
       "<Figure size 432x288 with 1 Axes>"
      ]
     },
     "metadata": {
      "needs_background": "light"
     },
     "output_type": "display_data"
    }
   ],
   "source": [
    "model = AgglomerativeClustering(distance_threshold=0, n_clusters=None)\n",
    "model = model.fit(X)\n",
    "y_predict = model.fit_predict(X)\n",
    "plt.title('Hierarchical Clustering Dendrogram')\n",
    "# plot the top three levels of the dendrogram\n",
    "plot_dendrogram(model, truncate_mode='level', p=3)\n",
    "plt.xlabel(\"Number of points in node (or index of point if no parenthesis).\")\n",
    "plt.show()"
   ]
  },
  {
   "cell_type": "code",
   "execution_count": 98,
   "metadata": {},
   "outputs": [
    {
     "name": "stdout",
     "output_type": "stream",
     "text": [
      "(586,)\n"
     ]
    },
    {
     "data": {
      "image/png": "[encoded data removed]",
      "text/plain": [
       "<Figure size 432x288 with 1 Axes>"
      ]
     },
     "metadata": {
      "needs_background": "light"
     },
     "output_type": "display_data"
    }
   ],
   "source": [
    "labels = model.labels_\n",
    "print(labels.shape)\n",
    "plt.scatter(X[:,0], X[:,1], c=labels)\n",
    "plt.show()"
   ]
  },
  {
   "cell_type": "code",
   "execution_count": 101,
   "metadata": {},
   "outputs": [
    {
     "name": "stdout",
     "output_type": "stream",
     "text": [
      "[[151. 194. 246. ... 253. 184. 226.]\n",
      " [  7.   0.   4. ... 128. 188. 194.]\n",
      " [255. 185. 223. ... 254. 184. 222.]\n",
      " ...\n",
      " [134. 203. 125. ... 135. 204. 126.]\n",
      " [133. 205. 126. ... 133. 205. 126.]\n",
      " [133. 208. 135. ... 132. 206. 125.]]\n"
     ]
    }
   ],
   "source": [
    "clf = NearestCentroid()\n",
    "clf.fit(X, y_predict)\n",
    "print(clf.centroids_)"
   ]
  },
  {
   "cell_type": "code",
   "execution_count": null,
   "metadata": {},
   "outputs": [],
   "source": []
  },
  {
   "cell_type": "code",
   "execution_count": null,
   "metadata": {},
   "outputs": [],
   "source": []
  },
  {
   "cell_type": "code",
   "execution_count": null,
   "metadata": {},
   "outputs": [],
   "source": []
  },
  {
   "cell_type": "code",
   "execution_count": null,
   "metadata": {},
   "outputs": [],
   "source": []
  },
  {
   "cell_type": "code",
   "execution_count": null,
   "metadata": {},
   "outputs": [],
   "source": []
  },
  {
   "cell_type": "code",
   "execution_count": null,
   "metadata": {},
   "outputs": [],
   "source": []
  },
  {
   "cell_type": "code",
   "execution_count": null,
   "metadata": {},
   "outputs": [],
   "source": []
  },
  {
   "cell_type": "code",
   "execution_count": null,
   "metadata": {},
   "outputs": [],
   "source": []
  },
  {
   "cell_type": "code",
   "execution_count": null,
   "metadata": {},
   "outputs": [],
   "source": []
  }
 ],
 "metadata": {
  "kernelspec": {
   "display_name": "Python 3",
   "language": "python",
   "name": "python3"
  },
  "language_info": {
   "codemirror_mode": {
    "name": "ipython",
    "version": 3
   },
   "file_extension": ".py",
   "mimetype": "text/x-python",
   "name": "python",
   "nbconvert_exporter": "python",
   "pygments_lexer": "ipython3",
   "version": "3.8.3"
  }
 },
 "nbformat": 4,
 "nbformat_minor": 5
}
