{
 "cells": [
  {
   "cell_type": "code",
   "execution_count": 2,
   "id": "powerful-serbia",
   "metadata": {},
   "outputs": [],
   "source": [
    "import numpy as np\n",
    "import cv2\n",
    "import glob\n",
    "import os\n",
    "import re"
   ]
  },
  {
   "cell_type": "code",
   "execution_count": 1,
   "id": "professional-checklist",
   "metadata": {},
   "outputs": [],
   "source": [
    "def extract_features(image_dir_name):\n",
    "    images = [cv2.imread(file) for file in sorted(glob.glob(os.path.join(image_dir_name, \"*.jpg\")), key=stringSplitByNumbers)]\n",
    "    \n",
    "    BINS_NUMBER_PER_CHANNEL = 32\n",
    "    features = np.zeros((images.__len__(), BINS_NUMBER_PER_CHANNEL * 3), dtype=float)\n",
    "    for i in range(len(images)):\n",
    "        if i % 50 == 0:\n",
    "            print(\"Finished extracting features for %d frames\" %i)\n",
    "        r_values = images[i][:,:,0].flatten()\n",
    "        g_values= images[i][:, :, 1].flatten()\n",
    "        b_values = images[i][:, :, 2].flatten()\n",
    "\n",
    "        r_hist, _ = np.histogram(r_values, BINS_NUMBER_PER_CHANNEL, [0, 256])\n",
    "        normalized_r_hist =  r_hist / np.sum(r_hist)\n",
    "        g_hist, _ = np.histogram(g_values, BINS_NUMBER_PER_CHANNEL, [0, 256])\n",
    "        normalized_g_hist =  g_hist / np.sum(g_hist)\n",
    "        b_hist, _ = np.histogram(b_values, BINS_NUMBER_PER_CHANNEL, [0, 256])\n",
    "        normalized_b_hist =  b_hist / np.sum(b_hist)\n",
    "\n",
    "        features[i,:] = np.concatenate((normalized_r_hist, normalized_g_hist, normalized_b_hist))\n",
    "    return features\n",
    "\n",
    "def stringSplitByNumbers(x):\n",
    "    r = re.compile('(\\d+)')\n",
    "    l = r.split(x)\n",
    "    return [int(y) if y.isdigit() else y for y in l]\n"
   ]
  },
  {
   "cell_type": "code",
   "execution_count": null,
   "id": "divided-saver",
   "metadata": {},
   "outputs": [],
   "source": [
    "extract_features(\"images\"))"
   ]
  }
 ],
 "metadata": {
  "kernelspec": {
   "display_name": "Python 3",
   "language": "python",
   "name": "python3"
  },
  "language_info": {
   "codemirror_mode": {
    "name": "ipython",
    "version": 3
   },
   "file_extension": ".py",
   "mimetype": "text/x-python",
   "name": "python",
   "nbconvert_exporter": "python",
   "pygments_lexer": "ipython3",
   "version": "3.8.5"
  }
 },
 "nbformat": 4,
 "nbformat_minor": 5
}
